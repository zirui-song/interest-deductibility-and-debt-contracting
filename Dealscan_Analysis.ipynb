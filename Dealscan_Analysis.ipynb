{
 "cells": [
  {
   "cell_type": "markdown",
   "metadata": {},
   "source": [
    "# Set-up"
   ]
  },
  {
   "cell_type": "code",
   "execution_count": 1,
   "metadata": {},
   "outputs": [
    {
     "name": "stdout",
     "output_type": "stream",
     "text": [
      "Working directory is set to: /Users/zrsong/Dropbox (MIT)/Research Projects/Tax and M&A Debt/Code\n",
      "Loading library list...\n",
      "Done\n"
     ]
    },
    {
     "data": {
      "text/plain": [
       "'\\n# Use S&P ratings data as Compustat ratings data were discontinued in 2017\\n# Query the S&P ratings data\\nquery = f\"\"\"\\n    SELECT gvkey, ratingdate, ratingsymbol\\n    FROM ciq_ratings.wrds_erating \\n    WHERE ratingdate >= \\'{start_date}\\' AND ratingdate <= \\'{end_date}\\'\\n\"\"\"\\n\\n# Execute the query and fetch the data\\nratings_date = db.raw_sql(query)\\n\\n# Save the data to a CSV file\\nratings_date.to_csv(\\'../Data/ratings_data.csv\\', index=False)\\n'"
      ]
     },
     "execution_count": 1,
     "metadata": {},
     "output_type": "execute_result"
    }
   ],
   "source": [
    "import wrds\n",
    "import pandas as pd\n",
    "import numpy as np\n",
    "import os\n",
    "\n",
    "# Get the current working directory\n",
    "script_dir = os.getcwd()\n",
    "\n",
    "# Set the working directory to the current script's directory (which in this case is already the working directory)\n",
    "os.chdir(script_dir)\n",
    "\n",
    "print(f\"Working directory is set to: {script_dir}\")\n",
    "\n",
    "# Connect to WRDS\n",
    "db = wrds.Connection(wrds_username='zrsong')\n",
    "\n",
    "# Define the start and end dates\n",
    "start_date = '2010-01-01'\n",
    "end_date = '2024-06-30'\n",
    "\n",
    "'''\n",
    "# Use S&P ratings data as Compustat ratings data were discontinued in 2017\n",
    "# Query the S&P ratings data\n",
    "query = f\"\"\"\n",
    "    SELECT gvkey, ratingdate, ratingsymbol\n",
    "    FROM ciq_ratings.wrds_erating \n",
    "    WHERE ratingdate >= '{start_date}' AND ratingdate <= '{end_date}'\n",
    "\"\"\"\n",
    "\n",
    "# Execute the query and fetch the data\n",
    "ratings_date = db.raw_sql(query)\n",
    "\n",
    "# Save the data to a CSV file\n",
    "ratings_date.to_csv('../Data/ratings_data.csv', index=False)\n",
    "'''"
   ]
  },
  {
   "cell_type": "markdown",
   "metadata": {},
   "source": [
    "# Compustat"
   ]
  },
  {
   "cell_type": "code",
   "execution_count": 2,
   "metadata": {},
   "outputs": [],
   "source": [
    "fund_table = 'funda'\n",
    "\n",
    "varlist = ['conm', 'tic', 'cusip','fyear', 'fyr', 'at','capx', 'ceq', 'cogs', 'csho', 'dlc', 'dlcch','dltt', 'dp', 'ib', 'itcb', \n",
    "           'lt', 'mib', 'naicsh', 'ni', 'prstkcc', 'pstk', 'pstkl', 'pstkrv', 're', 'revt', 'sale', 'ebitda', 'dpc', 'oiadp', 'oibdp',\n",
    "           'seq', 'sich', 'txdb', 'txdi', 'txditc', 'wcapch', 'xint', 'xlr', 'xrd', 'xsga', 'ppegt', 'xrd', 'ebit']\n",
    "\n",
    "query = \"\"\"SELECT gvkey, datadate, {}\n",
    "           FROM comp.{}\n",
    "           WHERE datafmt = 'STD'\n",
    "           AND popsrc = 'D'\n",
    "           AND indfmt = 'INDL'\n",
    "           AND consol = 'C'\n",
    "           AND fyear>=1990;\"\"\".format(\", \".join(varlist), fund_table)\n",
    "\n",
    "compa = db.raw_sql(query, date_cols=['datadate'])\n",
    "\n",
    "del(fund_table, varlist, query)"
   ]
  },
  {
   "cell_type": "code",
   "execution_count": 3,
   "metadata": {},
   "outputs": [],
   "source": [
    "# Import SIC codes from comp.company\n",
    "sic_table = 'company'\n",
    "query = \"SELECT gvkey, sic FROM comp.company\"\n",
    "sic_codes = db.raw_sql(query)\n",
    "\n",
    "# Merge SIC codes back to compa dataframe\n",
    "compa = compa.merge(sic_codes, how='left', on='gvkey')"
   ]
  },
  {
   "cell_type": "code",
   "execution_count": 4,
   "metadata": {},
   "outputs": [],
   "source": [
    "# all colnames of compa\n",
    "# check if sic exists\n",
    "# for each gvkey fyear, keep the one with the highest at\n",
    "compa = compa.sort_values(['gvkey', 'fyear', 'at'], ascending=[True, True, False])\n",
    "compa = compa.drop_duplicates(subset=['gvkey', 'fyear'], keep='first')"
   ]
  },
  {
   "cell_type": "code",
   "execution_count": 5,
   "metadata": {},
   "outputs": [],
   "source": [
    "# missing values of ebitda (due to missing dp/oiabp)\n",
    "compa['ebitda'] = compa['ebitda'].fillna(compa['ebit'] + compa['dp'])\n",
    "# replace ebitda = ebit if ebitda is missing\n",
    "compa['ebitda'] = compa['ebitda'].fillna(compa['ebit'])\n",
    "# replace ebida = ni if ebitda is still missing\n",
    "compa['ebitda'] = compa['ebitda'].fillna(compa['ni'])"
   ]
  },
  {
   "cell_type": "code",
   "execution_count": 6,
   "metadata": {},
   "outputs": [
    {
     "name": "stderr",
     "output_type": "stream",
     "text": [
      "/var/folders/n2/pgdf58ms1yd3ch8xjn9fmpmm0000gq/T/ipykernel_63900/281724331.py:4: FutureWarning: Series.fillna with 'method' is deprecated and will raise in a future version. Use obj.ffill() or obj.bfill() instead.\n",
      "  compa['ebitda'] = compa['ebitda'].fillna(method='ffill').fillna(method='bfill')\n"
     ]
    }
   ],
   "source": [
    "# If there are missing values between years for ebitda, fill with average of prev and post years\n",
    "compa['ebitda'] = compa['ebitda'].fillna((compa['ebitda'].shift(1) + compa['ebitda'].shift(-1)) / 2)\n",
    "# fill with prev/post if there are consecutive missing values\n",
    "compa['ebitda'] = compa['ebitda'].fillna(method='ffill').fillna(method='bfill')"
   ]
  },
  {
   "cell_type": "code",
   "execution_count": 7,
   "metadata": {},
   "outputs": [],
   "source": [
    "# output csv. format\n",
    "compa.to_csv(\"../Data/Raw/compustat_annual.csv\", index=False)"
   ]
  },
  {
   "cell_type": "code",
   "execution_count": 8,
   "metadata": {},
   "outputs": [],
   "source": [
    "\n",
    "# Quarterly Compustat data\n",
    "fund_table = 'fundq'\n",
    "varlist = ['gvkey', 'conm', 'tic', 'cusip','fyearq', 'fqtr', 'fyr', 'atq','capxy', 'ceqq', 'cogsq', \n",
    "           'cshoq', 'dlcq', 'dlcchy','dlttq', 'dpq', 'ibq', 'itccy', 'fic', 'pstkrq',\n",
    "           'ltq', 'mibq', 'niq', 'prstkccy', 'pstkq', 'req', 'revtq', 'saleq',\n",
    "           'seqq', 'txdbq', 'txdiq', 'txditcq', 'wcapchy', 'xinty', 'xrdq', 'xrdy', 'xsgaq',\n",
    "           'mkvaltq', 'epspxq', 'epsfxq', 'ajexq', 'prccq', 'oancfy', 'ivncfy', 'rdq', 'ppegtq', 'ppentq']\n",
    "# Join the list into a comma-separated string\n",
    "varlist_str = \", \".join(varlist)\n",
    "# use the varlist above to query quarterly compustat data (don't use join(varlist) as it will return a string)\n",
    "query = f\"\"\"\n",
    "    SELECT {varlist_str}\n",
    "    FROM comp_na_daily_all.{fund_table}\n",
    "    WHERE datadate >= '{start_date}' AND datadate <= '{end_date}'\n",
    "\"\"\"\n",
    "compq = db.raw_sql(query)"
   ]
  },
  {
   "cell_type": "code",
   "execution_count": 9,
   "metadata": {},
   "outputs": [],
   "source": [
    "# How to deal with duplicates? Keep last available entry (datadate)\n",
    "compq.dropna(subset=['fyearq', 'fqtr'], inplace=True)\n",
    "compq.sort_values(['gvkey','fyearq', 'fqtr', 'atq'], inplace=True)\n",
    "compq = compq[~compq.duplicated(['gvkey', 'fyearq', 'fqtr'], keep='last')]"
   ]
  },
  {
   "cell_type": "code",
   "execution_count": 10,
   "metadata": {},
   "outputs": [
    {
     "name": "stdout",
     "output_type": "stream",
     "text": [
      "Duplicate columns: Index([], dtype='object')\n"
     ]
    }
   ],
   "source": [
    "duplicate_columns = compq.columns[compq.columns.duplicated()]\n",
    "print(\"Duplicate columns:\", duplicate_columns)"
   ]
  },
  {
   "cell_type": "code",
   "execution_count": 11,
   "metadata": {},
   "outputs": [
    {
     "name": "stderr",
     "output_type": "stream",
     "text": [
      "/var/folders/n2/pgdf58ms1yd3ch8xjn9fmpmm0000gq/T/ipykernel_63900/4278593784.py:5: FutureWarning: A value is trying to be set on a copy of a DataFrame or Series through chained assignment using an inplace method.\n",
      "The behavior will change in pandas 3.0. This inplace method will never work because the intermediate object on which we are setting values always behaves as a copy.\n",
      "\n",
      "For example, when doing 'df[col].method(value, inplace=True)', try using 'df.method({col: value}, inplace=True)' or df[col] = df[col].method(value) instead, to perform the operation inplace on the original object.\n",
      "\n",
      "\n",
      "  compq['se'].fillna((compq['ceqq'] + compq['pstkq']), inplace=True)\n",
      "/var/folders/n2/pgdf58ms1yd3ch8xjn9fmpmm0000gq/T/ipykernel_63900/4278593784.py:7: FutureWarning: A value is trying to be set on a copy of a DataFrame or Series through chained assignment using an inplace method.\n",
      "The behavior will change in pandas 3.0. This inplace method will never work because the intermediate object on which we are setting values always behaves as a copy.\n",
      "\n",
      "For example, when doing 'df[col].method(value, inplace=True)', try using 'df.method({col: value}, inplace=True)' or df[col] = df[col].method(value) instead, to perform the operation inplace on the original object.\n",
      "\n",
      "\n",
      "  compq['se'].fillna((compq['atq'] - compq['ltq'] + compq['mibq'].fillna(0)), inplace=True)\n"
     ]
    }
   ],
   "source": [
    "# Calculating BE\n",
    "# Shareholder Equity\n",
    "compq['se'] = compq['seqq']\n",
    "# Uses Common Equity (ceq) + Preferred Stock (pstk) if SEQ is missing:\n",
    "compq['se'].fillna((compq['ceqq'] + compq['pstkq']), inplace=True)\n",
    "# Uses Total Assets (at) - Liabilities (lt) + Minority Interest (mib, if available), if others are missing\n",
    "compq['se'].fillna((compq['atq'] - compq['ltq'] + compq['mibq'].fillna(0)), inplace=True)"
   ]
  },
  {
   "cell_type": "code",
   "execution_count": 12,
   "metadata": {},
   "outputs": [
    {
     "name": "stderr",
     "output_type": "stream",
     "text": [
      "/var/folders/n2/pgdf58ms1yd3ch8xjn9fmpmm0000gq/T/ipykernel_63900/4121065189.py:7: FutureWarning: A value is trying to be set on a copy of a DataFrame or Series through chained assignment using an inplace method.\n",
      "The behavior will change in pandas 3.0. This inplace method will never work because the intermediate object on which we are setting values always behaves as a copy.\n",
      "\n",
      "For example, when doing 'df[col].method(value, inplace=True)', try using 'df.method({col: value}, inplace=True)' or df[col] = df[col].method(value) instead, to perform the operation inplace on the original object.\n",
      "\n",
      "\n",
      "  compq['ps'].fillna(compq['pstkq'], inplace=True)\n"
     ]
    }
   ],
   "source": [
    "# Preferred Stock\n",
    "# Preferred Stock (Redemption Value)\n",
    "compq['ps'] = compq['pstkrq']\n",
    "# Uses Preferred Stock (Liquidating Value (pstkl)) if Preferred Stock (Redemption Value) is missing (pstkl doesnt' exist for quarterly data)\n",
    "# compq['ps'].fillna(compq['pstkl'], inplace=True)\n",
    "# Uses Preferred Stock (Carrying Value (pstk)) if others are missing\n",
    "compq['ps'].fillna(compq['pstkq'], inplace=True)"
   ]
  },
  {
   "cell_type": "code",
   "execution_count": 13,
   "metadata": {},
   "outputs": [
    {
     "name": "stderr",
     "output_type": "stream",
     "text": [
      "/var/folders/n2/pgdf58ms1yd3ch8xjn9fmpmm0000gq/T/ipykernel_63900/1696288597.py:6: FutureWarning: A value is trying to be set on a copy of a DataFrame or Series through chained assignment using an inplace method.\n",
      "The behavior will change in pandas 3.0. This inplace method will never work because the intermediate object on which we are setting values always behaves as a copy.\n",
      "\n",
      "For example, when doing 'df[col].method(value, inplace=True)', try using 'df.method({col: value}, inplace=True)' or df[col] = df[col].method(value) instead, to perform the operation inplace on the original object.\n",
      "\n",
      "\n",
      "  compq['dt'].fillna(compq['txdbq'].fillna(0), inplace=True)\n"
     ]
    }
   ],
   "source": [
    "# Deferred Taxes\n",
    "# Uses Deferred Taxes and Investment Tax Credit (txditc)\n",
    "compq['dt'] = compq['txditcq']\n",
    "# This was Novy-Marx old legacy code. We drop this part to be in accordance with Ken French.\n",
    "# Uses Deferred Taxes and Investment Tax Credit(txdb) + Investment Tax Credit (Balance Sheet) (itcb) if txditc is missing (itcb (Investment Tax Credit (Balance Sheet)) doesn't exist for quarterly data)\n",
    "compq['dt'].fillna(compq['txdbq'].fillna(0), inplace=True)\n",
    "# If all measures are missing, set to missing\n",
    "compq.loc[pd.isnull(compq['txditcq']) & pd.isnull(compq['txdbq']), 'dt'] = np.nan"
   ]
  },
  {
   "cell_type": "code",
   "execution_count": 14,
   "metadata": {},
   "outputs": [],
   "source": [
    "# Book Equity\n",
    "# Book Equity (BE) = Share Equity (se) - Prefered Stocks (ps) + Deferred Taxes (dt)\n",
    "compq['be'] = (compq['se']  # shareholder equity must be available, otherwise BE is missing\n",
    "               - compq['ps']  # preferred stock must be available, otherwise BE is missing\n",
    "               + compq['dt'].fillna(0))  # add deferred taxes if available\n",
    "               #- compa['prba'].fillna(0))  # subtract postretirement benefit assets if available"
   ]
  },
  {
   "cell_type": "code",
   "execution_count": 15,
   "metadata": {},
   "outputs": [],
   "source": [
    "# COST = COGS + XSGA + XINT \n",
    "compq['cost'] = compq[['cogsq', 'xsgaq', 'xinty']].sum(axis=1, skipna=True)\n",
    "compq.loc[compq[['cogsq', 'xsgaq', 'xinty']].isnull().all(axis=1), 'cost'] = np.nan\n",
    "# OP = SALE - COST    \n",
    "compq['op'] = compq['saleq']-compq['cost']"
   ]
  },
  {
   "cell_type": "code",
   "execution_count": 16,
   "metadata": {},
   "outputs": [],
   "source": [
    "# output csv. format\n",
    "compq.to_csv(\"../Data/Raw/compustat_quarterly.csv\", index=False)"
   ]
  },
  {
   "cell_type": "markdown",
   "metadata": {},
   "source": [
    "# Dealscan"
   ]
  },
  {
   "cell_type": "code",
   "execution_count": 2,
   "metadata": {},
   "outputs": [],
   "source": [
    "# Query the dealscan syndicated loan data\n",
    "query = f\"\"\"\n",
    "    SELECT *\n",
    "    FROM tr_dealscan.dealscan\n",
    "    WHERE deal_active_date >= '{start_date}' AND deal_active_date <= '{end_date}'\n",
    "\"\"\"\n",
    "\n",
    "# Execute the query and fetch the data\n",
    "dealscan_data = db.raw_sql(query)\n",
    "# Save the data to a CSV file\n",
    "dealscan_data.to_csv('../Data/Raw/dealscan_data.csv', index=False)"
   ]
  },
  {
   "cell_type": "code",
   "execution_count": 8,
   "metadata": {
    "vscode": {
     "languageId": "ruby"
    }
   },
   "outputs": [],
   "source": [
    "# Convert deal_active_date to datetime if it's not already\n",
    "dealscan_data['deal_active_date'] = pd.to_datetime(dealscan_data['deal_active_date'])\n",
    "\n",
    "# Filter the dataframe\n",
    "dealscan_data = dealscan_data[dealscan_data['deal_active_date'] >= '2010-01-01']\n",
    "\n",
    "# aggregate by lpc_tranche_id and tranche_permid\n",
    "collapsed_ds = dealscan_data.groupby(['lpc_deal_id']).agg({\n",
    "    'deal_permid': 'first',\n",
    "    'deal_active_date': 'min',\n",
    "    'borrower_name': 'first',\n",
    "    'borrower_id': 'first',\n",
    "    'state_province': 'first',\n",
    "    'country': 'first',\n",
    "    'zip': 'first',\n",
    "    'city': 'first',\n",
    "    'sic_code': 'first',\n",
    "    'sponsor': 'first',\n",
    "    'lead_arranger': 'first',\n",
    "    'number_of_lenders': 'first',\n",
    "    'deal_amount': 'first',\n",
    "    'deal_amount_converted': 'first',\n",
    "    'deal_purpose': 'first',\n",
    "    'deal_amended': 'first',\n",
    "    'market_segment': 'first',\n",
    "    'seniority_type': 'first',\n",
    "    'secured': 'first',\n",
    "    'margin_bps': 'first',\n",
    "}).reset_index()"
   ]
  },
  {
   "cell_type": "code",
   "execution_count": 16,
   "metadata": {
    "vscode": {
     "languageId": "ruby"
    }
   },
   "outputs": [],
   "source": [
    "# sort by lpc_deal_id and deal_active_date\n",
    "collapsed_ds = collapsed_ds.sort_values(['lpc_deal_id', 'deal_active_date'])\n",
    "\n",
    "# keep only county == \"United States\"\n",
    "collapsed_ds = collapsed_ds[collapsed_ds['country'] == 'United States']\n",
    "\n",
    "# generate leveraged = 1 if the text \"Leveraged\" appears in market_segment\n",
    "collapsed_ds['leveraged'] = collapsed_ds['market_segment'].str.contains(\"Leveraged\", case=False, na=False).astype(int)\n",
    "\n",
    "# generate year from deal_active_date\n",
    "collapsed_ds['year'] = collapsed_ds['deal_active_date'].dt.year\n",
    "\n",
    "# collapse dataset down by year leveraged\n",
    "deal_count = collapsed_ds.groupby(['year', 'leveraged']).agg({\n",
    "    'lpc_deal_id': 'count',\n",
    "}).reset_index()"
   ]
  },
  {
   "cell_type": "code",
   "execution_count": 17,
   "metadata": {
    "vscode": {
     "languageId": "ruby"
    }
   },
   "outputs": [
    {
     "name": "stderr",
     "output_type": "stream",
     "text": [
      "/var/folders/n2/pgdf58ms1yd3ch8xjn9fmpmm0000gq/T/ipykernel_10858/2028130905.py:5: FutureWarning: \n",
      "\n",
      "The `ci` parameter is deprecated. Use `errorbar=None` for the same effect.\n",
      "\n",
      "  sns.barplot(x='year', y='lpc_deal_id', hue='leveraged', data=deal_count, ci=None)\n"
     ]
    },
    {
     "data": {
      "image/png": "[encoded data removed]",
      "text/plain": [
       "<Figure size 640x480 with 1 Axes>"
      ]
     },
     "metadata": {},
     "output_type": "display_data"
    }
   ],
   "source": [
    "import matplotlib.pyplot as plt\n",
    "import seaborn as sns\n",
    "\n",
    "# Assuming 'deal_count' contains the data\n",
    "sns.barplot(x='year', y='lpc_deal_id', hue='leveraged', data=deal_count, ci=None)\n",
    "\n",
    "# Add labels and a title\n",
    "plt.xlabel('Year', fontsize=12)\n",
    "plt.ylabel('LPC Deal ID Count', fontsize=12)\n",
    "plt.title('LPC Deal Count by Year and Leveraged Status', fontsize=14)\n",
    "\n",
    "# Show the plot\n",
    "plt.tight_layout()\n",
    "plt.show()"
   ]
  },
  {
   "cell_type": "code",
   "execution_count": 3,
   "metadata": {},
   "outputs": [],
   "source": [
    "# obtain Dealscan legacy lenders data (to use 2018 JF bank name link)\n",
    "query = f\"\"\"\n",
    "    SELECT *\n",
    "    FROM tr_dealscan.lendershares\n",
    "\"\"\"\n",
    "lendershares = db.raw_sql(query)\n",
    "\n",
    "# output csv. format\n",
    "lendershares.to_csv(\"../Data/Raw/lendershares.csv\", index=False)"
   ]
  },
  {
   "cell_type": "code",
   "execution_count": 4,
   "metadata": {},
   "outputs": [],
   "source": [
    "# Disconnect from WRDS\n",
    "db.close()"
   ]
  }
 ],
 "metadata": {
  "kernelspec": {
   "display_name": "Python 3",
   "language": "python",
   "name": "python3"
  },
  "language_info": {
   "codemirror_mode": {
    "name": "ipython",
    "version": 3
   },
   "file_extension": ".py",
   "mimetype": "text/x-python",
   "name": "python",
   "nbconvert_exporter": "python",
   "pygments_lexer": "ipython3",
   "version": "3.12.0"
  }
 },
 "nbformat": 4,
 "nbformat_minor": 2
}
