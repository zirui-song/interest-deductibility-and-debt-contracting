{
 "cells": [
  {
   "cell_type": "markdown",
   "metadata": {},
   "source": [
    "# Set-up"
   ]
  },
  {
   "cell_type": "code",
   "execution_count": 2,
   "metadata": {},
   "outputs": [
    {
     "name": "stdout",
     "output_type": "stream",
     "text": [
      "Working directory is set to: /Users/zrsong/Dropbox (MIT)/Research Projects/MPS_Interest Deductibility and Debt Contracting/4. Code\n"
     ]
    }
   ],
   "source": [
    "import wrds\n",
    "import pandas as pd\n",
    "import numpy as np\n",
    "import os\n",
    "import datetime\n",
    "import time\n",
    "import matplotlib.pyplot as plt\n",
    "import seaborn as sns\n",
    "\n",
    "# Get the current working directory\n",
    "script_dir = os.getcwd()\n",
    "\n",
    "# Set the working directory to the current script's directory (which in this case is already the working directory)\n",
    "os.chdir(script_dir)\n",
    "\n",
    "print(f\"Working directory is set to: {script_dir}\")"
   ]
  },
  {
   "cell_type": "code",
   "execution_count": 5,
   "metadata": {},
   "outputs": [],
   "source": [
    "# import comp_crspa_merged\n",
    "comp_crspa_merged = pd.read_csv('../3. Data/Processed/comp_crspa_merged.csv')\n",
    "# get a list of all the unique gvkeys and their corresponding company names\n",
    "gvkey_names = comp_crspa_merged[['gvkey', 'conm']].drop_duplicates()\n",
    "\n",
    "DS_linktable_extension = pd.read_csv('../3. Data/Raw/DS_linktable_extension.csv')\n",
    "\n",
    "ds_comp_merged = pd.merge(gvkey_names, DS_linktable_extension, on='gvkey', how='inner')"
   ]
  }
 ],
 "metadata": {
  "kernelspec": {
   "display_name": "Python 3",
   "language": "python",
   "name": "python3"
  },
  "language_info": {
   "codemirror_mode": {
    "name": "ipython",
    "version": 3
   },
   "file_extension": ".py",
   "mimetype": "text/x-python",
   "name": "python",
   "nbconvert_exporter": "python",
   "pygments_lexer": "ipython3",
   "version": "3.12.0"
  }
 },
 "nbformat": 4,
 "nbformat_minor": 2
}
