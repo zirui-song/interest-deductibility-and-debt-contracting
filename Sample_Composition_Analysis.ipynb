{
 "cells": [
  {
   "cell_type": "code",
   "execution_count": 26,
   "metadata": {},
   "outputs": [
    {
     "name": "stdout",
     "output_type": "stream",
     "text": [
      "Working directory is set to: /Users/zrsong/MIT Dropbox/Zirui Song/Research Projects/MPS_Interest Deductibility and Debt Contracting/4. Code\n"
     ]
    }
   ],
   "source": [
    "import wrds\n",
    "import pandas as pd\n",
    "import numpy as np\n",
    "import os\n",
    "import datetime\n",
    "import time\n",
    "import matplotlib.pyplot as plt\n",
    "import seaborn as sns\n",
    "\n",
    "# Get the current working directory\n",
    "script_dir = os.getcwd()\n",
    "\n",
    "# Set the working directory to the current script's directory (which in this case is already the working directory)\n",
    "os.chdir(script_dir)\n",
    "\n",
    "print(f\"Working directory is set to: {script_dir}\")\n",
    "\n",
    "overleaf_dir = \"/Users/zrsong/Dropbox (MIT)/Apps/Overleaf/M&A Debt\""
   ]
  },
  {
   "cell_type": "code",
   "execution_count": 27,
   "metadata": {},
   "outputs": [],
   "source": [
    "direct_loan_sample = pd.read_csv(\"../3. Data/Processed/final_regression_sample_direct_lending.csv\")\n",
    "tranche_level_ds_compa = pd.read_stata(\"../3. Data/Processed/tranche_level_ds_compa.dta\")\n",
    "# keep only post == 0\n",
    "post_gvkey = tranche_level_ds_compa[tranche_level_ds_compa[\"post\"] == 0]\n",
    "# keep only gvkey and year \n",
    "post_gvkey = post_gvkey[[\"gvkey\"]]\n",
    "# drop duplicates\n",
    "post_gvkey = post_gvkey.drop_duplicates()"
   ]
  },
  {
   "cell_type": "code",
   "execution_count": null,
   "metadata": {},
   "outputs": [],
   "source": [
    "direct_loan = direct_loan_sample[direct_loan_sample[\"lender_is_nonbank\"] == 1]\n",
    "# keep only gvkey and year\n",
    "direct_loan = direct_loan[[\"gvkey\", \"year\"]]\n",
    "# add column to indicate direct loan\n",
    "direct_loan[\"direct_loan\"] = 1\n",
    "# keep year > 2017\n",
    "direct_loan = direct_loan[direct_loan[\"year\"] > 2017]\n",
    "# drop year\n",
    "direct_loan = direct_loan.drop(columns=[\"year\"])\n",
    "# drop duplicates\n",
    "direct_loan = direct_loan.drop_duplicates()\n",
    "# merge with tranche level data\n",
    "post_gvkey = post_gvkey.merge(direct_loan, on=[\"gvkey\"], how=\"left\")\n",
    "# replace NaN with 0\n",
    "post_gvkey[\"direct_loan\"] = post_gvkey[\"direct_loan\"].fillna(0)"
   ]
  }
 ],
 "metadata": {
  "kernelspec": {
   "display_name": "Python 3",
   "language": "python",
   "name": "python3"
  },
  "language_info": {
   "codemirror_mode": {
    "name": "ipython",
    "version": 3
   },
   "file_extension": ".py",
   "mimetype": "text/x-python",
   "name": "python",
   "nbconvert_exporter": "python",
   "pygments_lexer": "ipython3",
   "version": "3.12.0"
  }
 },
 "nbformat": 4,
 "nbformat_minor": 2
}
